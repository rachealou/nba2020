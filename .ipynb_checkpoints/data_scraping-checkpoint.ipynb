{
 "cells": [
  {
   "cell_type": "code",
   "execution_count": null,
   "metadata": {},
   "outputs": [],
   "source": [
    "# Scrap Data\n",
    "\n",
    "# with assistance from DataProf: https://github.com/dataprofessor/code/blob/master/python/pandas_exploratory_data_analysis.ipynb\n",
    "import pandas as pd\n",
    "import numpy as np\n",
    "\n",
    "# NBA data scraped from Web\n",
    "# data scraped from https://www.basketball-reference.com/leagues/NBA_2020_per_game.html\n",
    "\n",
    "url = \"https://www.basketball-reference.com/leagues/NBA_2020_per_game.html\"\n",
    "\n",
    "html = pd.read_html(url, header = 0)\n",
    "df = html[0]\n",
    "\n",
    "# index = False to remove unwatned index column in csv\n",
    "df.to_csv('nba_data.csv', index = False)"
   ]
  }
 ],
 "metadata": {
  "kernelspec": {
   "display_name": "Python 3",
   "language": "python",
   "name": "python3"
  },
  "language_info": {
   "codemirror_mode": {
    "name": "ipython",
    "version": 3
   },
   "file_extension": ".py",
   "mimetype": "text/x-python",
   "name": "python",
   "nbconvert_exporter": "python",
   "pygments_lexer": "ipython3",
   "version": "3.8.5"
  }
 },
 "nbformat": 4,
 "nbformat_minor": 4
}
